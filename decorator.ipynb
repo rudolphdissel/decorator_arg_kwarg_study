{
 "cells": [
  {
   "cell_type": "code",
   "execution_count": 4,
   "id": "3c99ea85-ed39-496b-bf39-92c44d33647b",
   "metadata": {
    "tags": []
   },
   "outputs": [],
   "source": [
    "# Decorator\n",
    "# 함수에서 코드를 변경하지 않고 기능을 추가, 수정하는 문법\n",
    "# 함수안에 중복코드를 데코레이터 함수로 작성 > 유지보수향상"
   ]
  },
  {
   "cell_type": "code",
   "execution_count": 5,
   "id": "f40821e9-6a25-42e7-9eae-d47c0a2a5c9d",
   "metadata": {
    "tags": []
   },
   "outputs": [],
   "source": [
    "def func1():\n",
    "    print('code1')\n",
    "    print('code2')\n",
    "    print('code3')\n",
    "\n",
    "def func2():\n",
    "    print('code1')\n",
    "    print('code4')\n",
    "    print('code3')"
   ]
  },
  {
   "cell_type": "code",
   "execution_count": 6,
   "id": "959260a7-c6fd-4089-9e77-dc9151eaa330",
   "metadata": {
    "tags": []
   },
   "outputs": [
    {
     "name": "stdout",
     "output_type": "stream",
     "text": [
      "code1\n",
      "code2\n",
      "code3\n",
      "code1\n",
      "code4\n",
      "code3\n"
     ]
    }
   ],
   "source": [
    "func1()\n",
    "func2()"
   ]
  },
  {
   "cell_type": "code",
   "execution_count": 7,
   "id": "d7e9f321-1469-4673-9ee2-76c1ff6d4720",
   "metadata": {
    "tags": []
   },
   "outputs": [],
   "source": [
    "def deco(func):\n",
    "    def wrapper(*args, **kwargs):\n",
    "        print('code1')\n",
    "        func(*args, **kwargs)\n",
    "        print('code3')\n",
    "    return wrapper"
   ]
  },
  {
   "cell_type": "code",
   "execution_count": 8,
   "id": "17cf784a-1515-47b6-a827-dc5463178189",
   "metadata": {
    "tags": []
   },
   "outputs": [
    {
     "name": "stdout",
     "output_type": "stream",
     "text": [
      "code1\n",
      "code2\n",
      "code3\n",
      "code1\n",
      "code4\n",
      "code3\n"
     ]
    }
   ],
   "source": [
    "@deco\n",
    "def func1():\n",
    "    print('code2')\n",
    "\n",
    "@deco\n",
    "def func2():\n",
    "    print('code4')\n",
    "\n",
    "func1()\n",
    "func2()"
   ]
  },
  {
   "cell_type": "code",
   "execution_count": 11,
   "id": "f27b1641-d7e2-48ad-adbb-f3537322bd20",
   "metadata": {
    "tags": []
   },
   "outputs": [
    {
     "name": "stdout",
     "output_type": "stream",
     "text": [
      "code\n",
      "0.0\n"
     ]
    }
   ],
   "source": [
    "import time\n",
    "\n",
    "start = time.time()\n",
    "print('code')\n",
    "end = time.time()\n",
    "print(end - start)"
   ]
  },
  {
   "cell_type": "code",
   "execution_count": 13,
   "id": "ce899083-85bc-4730-b14d-443c5b4a1a17",
   "metadata": {
    "tags": []
   },
   "outputs": [],
   "source": [
    "def show_time(func):\n",
    "    def wrapper():\n",
    "        start = time.time()\n",
    "        func()\n",
    "        end = time.time()\n",
    "        print(end - start)\n",
    "    return wrapper"
   ]
  },
  {
   "cell_type": "code",
   "execution_count": 14,
   "id": "c2344c1e-2edd-4d93-941a-80b0b48614d3",
   "metadata": {
    "tags": []
   },
   "outputs": [
    {
     "name": "stdout",
     "output_type": "stream",
     "text": [
      "code2\n",
      "0.0\n",
      "0.0\n",
      "code4\n"
     ]
    }
   ],
   "source": [
    "@show_time\n",
    "def func1():\n",
    "    print('code2')\n",
    "\n",
    "func1 = show_time(func1)\n",
    "\n",
    "def func2():\n",
    "    print('code4')\n",
    "\n",
    "func1()\n",
    "func2()"
   ]
  },
  {
   "cell_type": "code",
   "execution_count": 15,
   "id": "29908db1-dcf0-4444-bc00-70de453dcf4e",
   "metadata": {
    "tags": []
   },
   "outputs": [],
   "source": [
    "def login(func): # func == func1\n",
    "    def wrapper(*args, **kwargs):\n",
    "        pw = input('pw : ')\n",
    "        if pw == '1234':\n",
    "            func(*args, **kwargs) # func1() : code2\n",
    "        else:\n",
    "            print('wrong password')\n",
    "    return wrapper"
   ]
  },
  {
   "cell_type": "code",
   "execution_count": 16,
   "id": "4b0976c5-575f-405f-9370-9e53728cab55",
   "metadata": {
    "tags": []
   },
   "outputs": [
    {
     "name": "stdin",
     "output_type": "stream",
     "text": [
      "pw :  1111\n"
     ]
    },
    {
     "name": "stdout",
     "output_type": "stream",
     "text": [
      "wrong password\n"
     ]
    }
   ],
   "source": [
    "@login\n",
    "# @show_time\n",
    "def func1(kt):\n",
    "    print('code2 :', kt)\n",
    "\n",
    "func1('aivle')"
   ]
  },
  {
   "cell_type": "code",
   "execution_count": 28,
   "id": "8460cd4d-8e4e-4f90-8d01-1163d1ec0dcf",
   "metadata": {},
   "outputs": [],
   "source": [
    "# *args, **kwargs \n",
    "# parameter : 여러개의 argument를 하나의 parameter(tuple,dict)로 받는 방법 \n",
    "# argument  : 하나의 collection(list,tuple,dict)를 여러개의 argument로 사용 방법"
   ]
  },
  {
   "cell_type": "code",
   "execution_count": 29,
   "id": "cab2b156-a31f-4ecb-91b0-3f9cfe627548",
   "metadata": {},
   "outputs": [],
   "source": [
    "# 식별자 1개, 데이터 n개 : 컬렉션 데이터타입"
   ]
  },
  {
   "cell_type": "code",
   "execution_count": 17,
   "id": "f9c7c7c5-9058-4c52-b6d5-3fe054478994",
   "metadata": {
    "tags": []
   },
   "outputs": [
    {
     "name": "stdout",
     "output_type": "stream",
     "text": [
      "<class 'tuple'> (1, 2, 3)\n",
      "<class 'dict'> {'n4': 10, 'n5': 20}\n",
      "36\n"
     ]
    }
   ],
   "source": [
    "def plus(*args, **kwargs): # parameter: 1개\n",
    "    print(type(args), args)\n",
    "    print(type(kwargs), kwargs)\n",
    "    print(sum(args) + sum(kwargs.values()))\n",
    "\n",
    "plus(1, 2, 3, n4=10, n5=20) # args : 3개"
   ]
  },
  {
   "cell_type": "code",
   "execution_count": 41,
   "id": "fe57b4e5-5ebc-44a4-8955-e8c706054161",
   "metadata": {},
   "outputs": [],
   "source": [
    "def echo(*args, **kwargs):\n",
    "    print(type(args), args)\n",
    "    print(type(kwargs), kwargs)"
   ]
  },
  {
   "cell_type": "code",
   "execution_count": 42,
   "id": "85fbb9b7-4de6-4f90-b5b7-7c63e057086f",
   "metadata": {},
   "outputs": [
    {
     "name": "stdout",
     "output_type": "stream",
     "text": [
      "<class 'tuple'> ([1, 2, 3],)\n",
      "<class 'dict'> {}\n",
      "<class 'tuple'> (1, 2, 3)\n",
      "<class 'dict'> {}\n"
     ]
    }
   ],
   "source": [
    "data1 = [1, 2, 3]\n",
    "echo(*data1) # echo(1, 2, 3)"
   ]
  },
  {
   "cell_type": "code",
   "execution_count": 43,
   "id": "8a792287-b943-4bcd-b105-e18de62baaa6",
   "metadata": {},
   "outputs": [
    {
     "name": "stdout",
     "output_type": "stream",
     "text": [
      "<class 'tuple'> ({'n4': 10, 'n5': 20},)\n",
      "<class 'dict'> {}\n",
      "<class 'tuple'> ()\n",
      "<class 'dict'> {'n4': 10, 'n5': 20}\n"
     ]
    }
   ],
   "source": [
    "data2 = {'n4': 10, 'n5': 20}\n",
    "echo(data2)   # echo({'n4': 10, 'n5': 20})\n",
    "echo(**data2) # echo(n4=10, n5=20)"
   ]
  },
  {
   "cell_type": "code",
   "execution_count": 45,
   "id": "2afb083a-a68a-4995-8849-965e332353ab",
   "metadata": {},
   "outputs": [],
   "source": [
    "def connect(host, user, pw):\n",
    "    print(host, user, pw)"
   ]
  },
  {
   "cell_type": "code",
   "execution_count": 51,
   "id": "5ec6e522-d826-41ea-b4cb-2c05fc514b59",
   "metadata": {},
   "outputs": [
    {
     "name": "stdout",
     "output_type": "stream",
     "text": [
      "1.2.3.5 kt 1234\n",
      "1.2.3.6 kt 1234\n",
      "1.2.3.6 kt 1234\n"
     ]
    }
   ],
   "source": [
    "data = {'host': '1.2.3.6', 'user': 'kt', 'pw': '1234'} # 1\n",
    "connect('1.2.3.5', 'kt', '1234')\n",
    "connect(host=data['host'], user=data['user'], pw=data['pw'])\n",
    "connect(**data) # n"
   ]
  },
  {
   "cell_type": "code",
   "execution_count": null,
   "id": "d7240436-3c4a-4e63-ab68-e1ea44e0d8ed",
   "metadata": {},
   "outputs": [],
   "source": []
  },
  {
   "cell_type": "code",
   "execution_count": null,
   "id": "9bdf3a1a-4b32-439d-8227-76d0813c4a71",
   "metadata": {},
   "outputs": [],
   "source": []
  },
  {
   "cell_type": "code",
   "execution_count": null,
   "id": "792220ed-031b-4657-b462-058d150510ac",
   "metadata": {},
   "outputs": [],
   "source": []
  },
  {
   "cell_type": "code",
   "execution_count": null,
   "id": "b0d31ef6-933d-4e0f-a920-f1aeb9a8bec0",
   "metadata": {},
   "outputs": [],
   "source": []
  },
  {
   "cell_type": "code",
   "execution_count": null,
   "id": "986e4b4e-673b-4b07-bcd3-88adb671612c",
   "metadata": {},
   "outputs": [],
   "source": []
  }
 ],
 "metadata": {
  "kernelspec": {
   "display_name": "Python 3 (ipykernel)",
   "language": "python",
   "name": "python3"
  },
  "language_info": {
   "codemirror_mode": {
    "name": "ipython",
    "version": 3
   },
   "file_extension": ".py",
   "mimetype": "text/x-python",
   "name": "python",
   "nbconvert_exporter": "python",
   "pygments_lexer": "ipython3",
   "version": "3.11.5"
  }
 },
 "nbformat": 4,
 "nbformat_minor": 5
}
